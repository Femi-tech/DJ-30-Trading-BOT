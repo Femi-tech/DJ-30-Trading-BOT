{
 "cells": [
  {
   "cell_type": "code",
   "execution_count": 1,
   "metadata": {},
   "outputs": [],
   "source": [
    "import alpaca_trade_api as tradeapi\n",
    "import time\n",
    "import datetime\n",
    "from datetime import timedelta\n",
    "from pytz import timezone\n",
    "tz = timezone('EST')\n",
    "\n",
    "import numpy as np\n",
    "import pandas as pd"
   ]
  },
  {
   "cell_type": "code",
   "execution_count": null,
   "metadata": {},
   "outputs": [],
   "source": [
    "from dotenv import load_dotenv\n",
    "load_dotenv()"
   ]
  },
  {
   "cell_type": "code",
   "execution_count": null,
   "metadata": {},
   "outputs": [],
   "source": [
    "alpaca_api_key = os.getenv(\"ALPACA_API_KEY\")\n",
    "alpaca_secret_key = os.getenv(\"ALPACA_SECRET_KEY\")\n",
    "base_url = 'https://paper-api.alpaca.markets'"
   ]
  },
  {
   "cell_type": "code",
   "execution_count": 2,
   "metadata": {},
   "outputs": [],
   "source": [
    "api = tradeapi.REST(alpaca_api_key, alpaca_secret_key, base_url, api_version='v2')"
   ]
  },
  {
   "cell_type": "markdown",
   "metadata": {},
   "source": [
    "### Tester Code for algo trading bot\n",
    "\n",
    "Using AWS EC2"
   ]
  },
  {
   "cell_type": "code",
   "execution_count": null,
   "metadata": {},
   "outputs": [
    {
     "name": "stdout",
     "output_type": "stream",
     "text": [
      "test:\n",
      "                              AXP                                           \\\n",
      "                             open     high     low   close volume fast_ema   \n",
      "time                                                                         \n",
      "2020-10-14 14:20:00-04:00  105.37  105.420  105.37  105.42   1066      NaN   \n",
      "2020-10-14 14:25:00-04:00  105.34  105.340  105.29  105.33   1560      NaN   \n",
      "2020-10-14 14:30:00-04:00  105.26  105.280  105.11  105.11   1648      NaN   \n",
      "2020-10-14 14:35:00-04:00  105.16  105.165  105.01  105.01   3114      NaN   \n",
      "2020-10-14 14:40:00-04:00  105.06  105.180  105.06  105.13   3389    105.2   \n",
      "\n",
      "                                    \n",
      "                          slow_ema  \n",
      "time                                \n",
      "2020-10-14 14:20:00-04:00      NaN  \n",
      "2020-10-14 14:25:00-04:00      NaN  \n",
      "2020-10-14 14:30:00-04:00      NaN  \n",
      "2020-10-14 14:35:00-04:00      NaN  \n",
      "2020-10-14 14:40:00-04:00      NaN  \n",
      "run_checker started\n",
      "Trading day\n",
      "Market closed (2020-10-14 21:42:43.250172-05:00)\n",
      "Sleeping 11.79 hours\n"
     ]
    }
   ],
   "source": [
    "import logging\n",
    "logging.basicConfig(filename='./apca_algo.log', format='%(name)s - %(levelname)s - %(message)s')\n",
    "logging.warning('{} logging started'.format(datetime.datetime.now().strftime(\"%x %X\")))\n",
    "\n",
    "def get_data_bars(symbols, rate, slow, fast):\n",
    "\n",
    "    data = api.get_barset(symbols, rate, limit=20).df\n",
    "\n",
    "    for x in symbols:\n",
    "        data.loc[:, (x, 'fast_ema')] = data[x]['close'].rolling(window=fast).mean()\n",
    "        data.loc[:, (x, 'slow_ema')] = data[x]['close'].rolling(window=slow).mean()\n",
    "    return data\n",
    "\n",
    "def get_signal_bars(symbol_list, rate, ema_slow, ema_fast):\n",
    "    data = get_data_bars(symbol_list, rate, ema_slow, ema_fast)\n",
    "    signals = {}\n",
    "    for x in symbol_list:\n",
    "        if data[x].iloc[-1]['fast_ema'] > data[x].iloc[-1]['slow_ema']: signal = 1\n",
    "        else: signal = 0\n",
    "        signals[x] = signal\n",
    "    return signals\n",
    "\n",
    "def time_to_open(current_time):\n",
    "    if current_time.weekday() <= 4:\n",
    "        d = (current_time + timedelta(days=1)).date()\n",
    "    else:\n",
    "        days_to_mon = 0 - current_time.weekday() + 7\n",
    "        d = (current_time + timedelta(days=days_to_mon)).date()\n",
    "    next_day = datetime.datetime.combine(d, datetime.time(9, 30, tzinfo=tz))\n",
    "    seconds = (next_day - current_time).total_seconds()\n",
    "    return seconds\n",
    "\n",
    "def run_checker(stocklist):\n",
    "    print('run_checker started')\n",
    "    while True:\n",
    "        # Check weekdays\n",
    "        if datetime.datetime.now(tz).weekday() >= 0 and datetime.datetime.now(tz).weekday() <= 4:\n",
    "            # Check the market is open\n",
    "            print('Trading day')\n",
    "            if datetime.datetime.now(tz).time() > datetime.time(9, 30) and datetime.datetime.now(tz).time() <= datetime.time(15, 30):\n",
    "                signals = get_signal_bars(stocklist, '5Min', 20, 5)\n",
    "                for signal in signals:\n",
    "                    if signals[signal] == 1:\n",
    "                        if signal not in [x.symbol for x in api.list_positions()]:\n",
    "                            logging.warning('{} {} - {}'.format(datetime.datetime.now(tz).strftime(\"%x %X\"), signal, signals[signal]))\n",
    "                            api.submit_order(signal, 1, 'buy', 'market', 'day')\n",
    "                            # print(datetime.datetime.now(tz).strftime(\"%x %X\"), 'buying', signals[signal], signal)\n",
    "                    else:\n",
    "                        try:\n",
    "                            api.submit_order(signal, 1, 'sell', 'market', 'day')\n",
    "                            logging.warning('{} {} - {}'.format(datetime.datetime.now(tz).strftime(\"%x %X\"), signal, signals[signal]))\n",
    "                        except Exception as e:\n",
    "                            # print('No sell', signal, e)\n",
    "                            pass\n",
    "\n",
    "                time.sleep(60)\n",
    "            else:\n",
    "                # Get the time when market will be open\n",
    "                print('Market closed ({})'.format(datetime.datetime.now(tz)))\n",
    "                print('Sleeping', round(time_to_open(datetime.datetime.now(tz))/60/60, 2), 'hours')\n",
    "                time.sleep(time_to_open(datetime.datetime.now(tz)))\n",
    "        else:\n",
    "            # If market is close, check the time until it's open\n",
    "            print('Market closed ({})'.format(datetime.datetime.now(tz)))\n",
    "            print('Sleeping', round(time_to_open(datetime.datetime.now(tz))/60/60, 2), 'hours')\n",
    "            time.sleep(time_to_open(datetime.datetime.now(tz)))\n",
    "\n",
    "stocks = ['AXP', 'AMGN', 'AAPL', 'BA', 'CAT', 'CSCO', 'CVX', 'GS', 'HD', 'HON', 'IBM', 'INTC', 'JNJ', 'KO', 'JPM', 'MCD', 'MMM', 'MRK', 'MSFT', 'NKE', 'PG', 'TRV', 'UNH', 'CRM', 'VZ', 'V', 'WBA', 'WMT', 'DIS', 'DOW']\n",
    "\n",
    "print('test:')\n",
    "print(get_data_bars(['AXP'], '5Min', 20, 5).head())\n",
    "\n",
    "run_checker(stocks)"
   ]
  },
  {
   "cell_type": "code",
   "execution_count": null,
   "metadata": {},
   "outputs": [],
   "source": []
  },
  {
   "cell_type": "code",
   "execution_count": null,
   "metadata": {},
   "outputs": [],
   "source": []
  },
  {
   "cell_type": "markdown",
   "metadata": {},
   "source": [
    "#### Reference"
   ]
  },
  {
   "cell_type": "code",
   "execution_count": null,
   "metadata": {},
   "outputs": [],
   "source": [
    "https://alpaca.markets/learn/python-aws-trading-algorithm/"
   ]
  }
 ],
 "metadata": {
  "kernelspec": {
   "display_name": "Python [conda env:pyvizenv] *",
   "language": "python",
   "name": "conda-env-pyvizenv-py"
  },
  "language_info": {
   "codemirror_mode": {
    "name": "ipython",
    "version": 3
   },
   "file_extension": ".py",
   "mimetype": "text/x-python",
   "name": "python",
   "nbconvert_exporter": "python",
   "pygments_lexer": "ipython3",
   "version": "3.7.7"
  }
 },
 "nbformat": 4,
 "nbformat_minor": 4
}
